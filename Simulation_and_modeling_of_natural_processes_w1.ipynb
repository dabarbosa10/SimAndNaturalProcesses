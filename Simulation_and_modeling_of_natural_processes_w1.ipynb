{
 "cells": [
  {
   "cell_type": "code",
   "execution_count": 1,
   "metadata": {},
   "outputs": [],
   "source": [
    "import numpy as np"
   ]
  },
  {
   "cell_type": "code",
   "execution_count": 2,
   "metadata": {},
   "outputs": [],
   "source": [
    "a=2\n",
    "b=3\n",
    "c=-1\n",
    "d=-0.5"
   ]
  },
  {
   "cell_type": "code",
   "execution_count": 3,
   "metadata": {},
   "outputs": [
    {
     "data": {
      "text/plain": [
       "-1.0"
      ]
     },
     "execution_count": 3,
     "metadata": {},
     "output_type": "execute_result"
    }
   ],
   "source": [
    "-b//a-(-1)*c*b/d**c%c%d + (0 and 1 or not 0)"
   ]
  },
  {
   "cell_type": "code",
   "execution_count": 4,
   "metadata": {},
   "outputs": [
    {
     "name": "stdout",
     "output_type": "stream",
     "text": [
      "[40, 2, 4]\n"
     ]
    }
   ],
   "source": [
    "a=10\n",
    "b=20\n",
    "c=(a if a>b else b)*2\n",
    "d=list(range(10))\n",
    "d[0]=c\n",
    "print(d[0:6:2])"
   ]
  },
  {
   "cell_type": "code",
   "execution_count": 5,
   "metadata": {},
   "outputs": [
    {
     "name": "stdout",
     "output_type": "stream",
     "text": [
      "29\n"
     ]
    }
   ],
   "source": [
    "def foo(x):\n",
    "    x+=1\n",
    "    if x<20:\n",
    "        return foo(x)+1\n",
    "    else:\n",
    "        return x\n",
    "x=10\n",
    "print(foo(x))"
   ]
  },
  {
   "cell_type": "code",
   "execution_count": 7,
   "metadata": {},
   "outputs": [
    {
     "name": "stdout",
     "output_type": "stream",
     "text": [
      "[2, 20, 30]\n",
      "[2, 20, 30]\n",
      "[1, 2, 3, 4]\n",
      "[2, 20, 30]\n"
     ]
    }
   ],
   "source": [
    "def change1(mylist):\n",
    "    mylist[0] = 2\n",
    "    print(mylist)\n",
    "    return\n",
    "\n",
    "def change2(mylist):\n",
    "    mylist = [1,2,3,4]\n",
    "    print(mylist)\n",
    "    return\n",
    "\n",
    "mylist = [10,20,30]\n",
    "change1(mylist)\n",
    "print(mylist)\n",
    "change2(mylist)\n",
    "print(mylist)"
   ]
  },
  {
   "cell_type": "code",
   "execution_count": 9,
   "metadata": {},
   "outputs": [
    {
     "name": "stdout",
     "output_type": "stream",
     "text": [
      "[0 1 2 3 4 5 6 7]\n"
     ]
    }
   ],
   "source": [
    "x1 = np.arange(8)\n",
    "print(x1)"
   ]
  },
  {
   "cell_type": "code",
   "execution_count": 10,
   "metadata": {},
   "outputs": [
    {
     "name": "stdout",
     "output_type": "stream",
     "text": [
      "[[0 1 2 3]\n",
      " [4 5 6 7]]\n"
     ]
    }
   ],
   "source": [
    "x2 = np.reshape(x1,(2,4))\n",
    "print(x2)"
   ]
  },
  {
   "cell_type": "code",
   "execution_count": 11,
   "metadata": {},
   "outputs": [
    {
     "name": "stdout",
     "output_type": "stream",
     "text": [
      "[[4 5 6 7]\n",
      " [0 1 2 3]]\n"
     ]
    }
   ],
   "source": [
    "print(np.roll(x2,1,axis=0))"
   ]
  },
  {
   "cell_type": "code",
   "execution_count": 12,
   "metadata": {},
   "outputs": [
    {
     "name": "stdout",
     "output_type": "stream",
     "text": [
      "The number of piles remaining are:  1\n"
     ]
    }
   ],
   "source": [
    "import random\n",
    "\n",
    "numberOfPiles = 10\n",
    "maxIter = 10000\n",
    "\n",
    "piles = np.empty(numberOfPiles)\n",
    "piles.fill(numberOfPiles)\n",
    "totPiles = np.sum(piles)\n",
    "numPiles = numberOfPiles\n",
    "x = 0;\n",
    "while (x < maxIter and piles.size > 1):\n",
    "    piles = piles[np.nonzero(piles)]\n",
    "    for i in np.arange(piles.size):\n",
    "        piles[i] -= 1\n",
    "        num = np.random.randint(piles.size)\n",
    "        piles[num] += 1\n",
    "    numPiles = piles.size\n",
    "    x += 1\n",
    "\n",
    "\n",
    "print(\"The number of piles remaining are: \", numPiles)"
   ]
  },
  {
   "cell_type": "code",
   "execution_count": null,
   "metadata": {},
   "outputs": [],
   "source": []
  }
 ],
 "metadata": {
  "kernelspec": {
   "display_name": "Python 3",
   "language": "python",
   "name": "python3"
  },
  "language_info": {
   "codemirror_mode": {
    "name": "ipython",
    "version": 3
   },
   "file_extension": ".py",
   "mimetype": "text/x-python",
   "name": "python",
   "nbconvert_exporter": "python",
   "pygments_lexer": "ipython3",
   "version": "3.7.6"
  }
 },
 "nbformat": 4,
 "nbformat_minor": 4
}
