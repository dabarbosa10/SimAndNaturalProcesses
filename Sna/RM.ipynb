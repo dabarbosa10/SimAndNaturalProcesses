{
  "nbformat": 4,
  "nbformat_minor": 0,
  "metadata": {
    "colab": {
      "name": "RM.ipynb",
      "provenance": []
    },
    "kernelspec": {
      "name": "python3",
      "display_name": "Python 3"
    }
  },
  "cells": [
    {
      "cell_type": "code",
      "metadata": {
        "id": "-0EsD3vCwPqo"
      },
      "source": [
        "import numpy as np\n",
        "import matplotlib.pyplot as plt\n",
        "%matplotlib inline"
      ],
      "execution_count": 1,
      "outputs": []
    },
    {
      "cell_type": "code",
      "metadata": {
        "id": "t_6aQM6Vwrcc"
      },
      "source": [
        "A=np.random.standard_normal(size=(2,2))\n",
        "B=A.T"
      ],
      "execution_count": 2,
      "outputs": []
    },
    {
      "cell_type": "code",
      "metadata": {
        "colab": {
          "base_uri": "https://localhost:8080/"
        },
        "id": "VobstqgyxNYT",
        "outputId": "9afd57ba-d8a3-4a51-df3b-73c3df8a8b37"
      },
      "source": [
        "C=A+B\n",
        "print(C)"
      ],
      "execution_count": 3,
      "outputs": [
        {
          "output_type": "stream",
          "text": [
            "[[0.70097729 0.2756546 ]\n",
            " [0.2756546  0.2240783 ]]\n"
          ],
          "name": "stdout"
        }
      ]
    },
    {
      "cell_type": "markdown",
      "metadata": {
        "id": "4c-TuiUFyApe"
      },
      "source": [
        "In the above case we have an element of the GOE random matrix.\n",
        "We can create a larger element of this ensemble."
      ]
    },
    {
      "cell_type": "code",
      "metadata": {
        "id": "gDloeuNYyV4k"
      },
      "source": [
        "def createGoe(size1):\n",
        "  A1=np.random.standard_normal(size=(size1,size1))\n",
        "  B1=A1.T\n",
        "  C1=A1+B1\n",
        "  return C1"
      ],
      "execution_count": 4,
      "outputs": []
    },
    {
      "cell_type": "code",
      "metadata": {
        "colab": {
          "base_uri": "https://localhost:8080/"
        },
        "id": "wWMA2EGtytiU",
        "outputId": "3e31aaa7-3217-410b-b199-132fdec8d074"
      },
      "source": [
        "H1=createGoe(2)\n",
        "print(H1)"
      ],
      "execution_count": 5,
      "outputs": [
        {
          "output_type": "stream",
          "text": [
            "[[-0.21766766  0.24285012]\n",
            " [ 0.24285012 -0.6543748 ]]\n"
          ],
          "name": "stdout"
        }
      ]
    },
    {
      "cell_type": "code",
      "metadata": {
        "colab": {
          "base_uri": "https://localhost:8080/"
        },
        "id": "H2EzD1Jj3wbB",
        "outputId": "b2bc7997-e948-4e3c-f451-06ca0ee6d03a"
      },
      "source": [
        "H2=createGoe(4)\n",
        "print(H2)"
      ],
      "execution_count": 6,
      "outputs": [
        {
          "output_type": "stream",
          "text": [
            "[[-2.15837337  1.15428595 -0.53297909  1.110254  ]\n",
            " [ 1.15428595  1.18724064  1.68262593 -1.99890953]\n",
            " [-0.53297909  1.68262593 -1.02470645 -0.05838882]\n",
            " [ 1.110254   -1.99890953 -0.05838882  1.95743861]]\n"
          ],
          "name": "stdout"
        }
      ]
    },
    {
      "cell_type": "markdown",
      "metadata": {
        "id": "7b1LPc3x4TXE"
      },
      "source": [
        "We observe that an element H of GOE is a symmetric matrix. "
      ]
    },
    {
      "cell_type": "code",
      "metadata": {
        "id": "N3myhGb64EcE"
      },
      "source": [
        "def createEnsemble(sizens,sizemat):\n",
        "  Ens=np.zeros((sizens,sizemat,sizemat))\n",
        "  for i in range(0,sizens):\n",
        "    Ens[i,:,:]=createGoe(sizemat)\n",
        "  return Ens"
      ],
      "execution_count": 7,
      "outputs": []
    },
    {
      "cell_type": "code",
      "metadata": {
        "id": "cUBOgyeV6CMH"
      },
      "source": [
        "Ensemble=createEnsemble(10000,2)"
      ],
      "execution_count": 8,
      "outputs": []
    },
    {
      "cell_type": "code",
      "metadata": {
        "id": "hbpOY4cr8cit"
      },
      "source": [
        "def compEig(matrices):\n",
        "  eigen1=np.linalg.eigvals(matrices[0,:,:])\n",
        "  for i in range(1,matrices.shape[0]):\n",
        "    eigen2=np.linalg.eigvals(matrices[i,:,:])\n",
        "    eigen1=np.append(eigen1,eigen2)\n",
        "  return np.sort(eigen1)"
      ],
      "execution_count": 9,
      "outputs": []
    },
    {
      "cell_type": "code",
      "metadata": {
        "id": "GaUjKfKU9nMx"
      },
      "source": [
        "ens=compEig(Ensemble)"
      ],
      "execution_count": 10,
      "outputs": []
    },
    {
      "cell_type": "code",
      "metadata": {
        "colab": {
          "base_uri": "https://localhost:8080/",
          "height": 265
        },
        "id": "KNdTa060_lhj",
        "outputId": "7547b71d-17ee-4bf1-c021-740f91929c2e"
      },
      "source": [
        "plt.hist(ens,bins=50)\n",
        "plt.show()"
      ],
      "execution_count": 11,
      "outputs": [
        {
          "output_type": "display_data",
          "data": {
            "image/png": "[encoded data removed]",
            "text/plain": [
              "<Figure size 432x288 with 1 Axes>"
            ]
          },
          "metadata": {
            "tags": [],
            "needs_background": "light"
          }
        }
      ]
    },
    {
      "cell_type": "code",
      "metadata": {
        "colab": {
          "base_uri": "https://localhost:8080/"
        },
        "id": "3S8ZRe25_ylE",
        "outputId": "fd5f64df-b53b-4544-b83c-4a4dba56f08d"
      },
      "source": [
        "ens"
      ],
      "execution_count": 12,
      "outputs": [
        {
          "output_type": "execute_result",
          "data": {
            "text/plain": [
              "array([-8.59881663, -8.55367062, -8.39531275, ...,  7.60449032,\n",
              "        8.5013107 ,  8.86308964])"
            ]
          },
          "metadata": {
            "tags": []
          },
          "execution_count": 12
        }
      ]
    },
    {
      "cell_type": "code",
      "metadata": {
        "id": "XWlRLMNNASOm"
      },
      "source": [
        "Ensemble2=createEnsemble(10000,4)\n",
        "Ensemble3=createEnsemble(10000,10)\n",
        "ens2=compEig(Ensemble2)\n",
        "ens3=compEig(Ensemble3)"
      ],
      "execution_count": 13,
      "outputs": []
    },
    {
      "cell_type": "code",
      "metadata": {
        "colab": {
          "base_uri": "https://localhost:8080/",
          "height": 265
        },
        "id": "YvG3Ox8uAtst",
        "outputId": "72c55993-16ee-4c40-cec3-fb4b6ed28315"
      },
      "source": [
        "plt.hist(ens2,bins=50)\n",
        "plt.show()"
      ],
      "execution_count": 14,
      "outputs": [
        {
          "output_type": "display_data",
          "data": {
            "image/png": "[encoded data removed]",
            "text/plain": [
              "<Figure size 432x288 with 1 Axes>"
            ]
          },
          "metadata": {
            "tags": [],
            "needs_background": "light"
          }
        }
      ]
    },
    {
      "cell_type": "code",
      "metadata": {
        "colab": {
          "base_uri": "https://localhost:8080/",
          "height": 265
        },
        "id": "JRxRejP7AwZA",
        "outputId": "1ed87073-3d81-4437-bc76-5344cb571969"
      },
      "source": [
        "plt.hist(ens3,bins=50)\n",
        "plt.show()"
      ],
      "execution_count": 15,
      "outputs": [
        {
          "output_type": "display_data",
          "data": {
            "image/png": "[encoded data removed]",
            "text/plain": [
              "<Figure size 432x288 with 1 Axes>"
            ]
          },
          "metadata": {
            "tags": [],
            "needs_background": "light"
          }
        }
      ]
    },
    {
      "cell_type": "code",
      "metadata": {
        "colab": {
          "base_uri": "https://localhost:8080/",
          "height": 265
        },
        "id": "zOegItfKLRtz",
        "outputId": "8c5b6f1e-ff20-4c34-8f7f-374344ed3830"
      },
      "source": [
        "plt.hist(ens3,bins=50)\n",
        "plt.show()"
      ],
      "execution_count": 16,
      "outputs": [
        {
          "output_type": "display_data",
          "data": {
            "image/png": "[encoded data removed]",
            "text/plain": [
              "<Figure size 432x288 with 1 Axes>"
            ]
          },
          "metadata": {
            "tags": [],
            "needs_background": "light"
          }
        }
      ]
    },
    {
      "cell_type": "code",
      "metadata": {
        "colab": {
          "base_uri": "https://localhost:8080/"
        },
        "id": "GPQmVXjgAy9J",
        "outputId": "85ea8e7f-e04c-4b45-8c8f-6dbeff56535a"
      },
      "source": [
        "np.linalg.eigvals(H1)"
      ],
      "execution_count": 17,
      "outputs": [
        {
          "output_type": "execute_result",
          "data": {
            "text/plain": [
              "array([-0.10944128, -0.76260118])"
            ]
          },
          "metadata": {
            "tags": []
          },
          "execution_count": 17
        }
      ]
    },
    {
      "cell_type": "code",
      "metadata": {
        "id": "0uOZm2yfBlT2"
      },
      "source": [
        "def cenEigenDiff(ensemble):\n",
        "  N=ensemble.shape[1]\n",
        "  ei=np.sort(np.linalg.eigvals(ensemble[0,:,:]))\n",
        "  dif=np.array([ ei[N//2]-ei[N//2-1] ])\n",
        "  for i in range(1,ensemble.shape[0]):\n",
        "    ei1=np.sort(np.linalg.eigvals(ensemble[i,:,:]))\n",
        "    dif1=np.array([ ei1[N//2]-ei1[N//2-1] ])\n",
        "    dif=np.append(dif,dif1)\n",
        "\n",
        "  return dif\n"
      ],
      "execution_count": 18,
      "outputs": []
    },
    {
      "cell_type": "code",
      "metadata": {
        "id": "oM98bz9rFm6o"
      },
      "source": [
        "difference=cenEigenDiff(Ensemble)"
      ],
      "execution_count": 19,
      "outputs": []
    },
    {
      "cell_type": "code",
      "metadata": {
        "colab": {
          "base_uri": "https://localhost:8080/",
          "height": 265
        },
        "id": "L5eOuMrRFqH7",
        "outputId": "6970f65d-9884-44c6-d6ae-39f6004f5dad"
      },
      "source": [
        "plt.hist(difference,bins=50)\n",
        "plt.show()"
      ],
      "execution_count": 20,
      "outputs": [
        {
          "output_type": "display_data",
          "data": {
            "image/png": "[encoded data removed]",
            "text/plain": [
              "<Figure size 432x288 with 1 Axes>"
            ]
          },
          "metadata": {
            "tags": [],
            "needs_background": "light"
          }
        }
      ]
    },
    {
      "cell_type": "code",
      "metadata": {
        "colab": {
          "base_uri": "https://localhost:8080/",
          "height": 265
        },
        "id": "o5uXjvgoId0Z",
        "outputId": "91c8d224-fb89-461b-a461-ba3ae58f4c5a"
      },
      "source": [
        "difference2=cenEigenDiff(Ensemble2)\n",
        "plt.hist(difference2,bins=50,density=True)\n",
        "plt.show()"
      ],
      "execution_count": 21,
      "outputs": [
        {
          "output_type": "display_data",
          "data": {
            "image/png": "[encoded data removed]",
            "text/plain": [
              "<Figure size 432x288 with 1 Axes>"
            ]
          },
          "metadata": {
            "tags": [],
            "needs_background": "light"
          }
        }
      ]
    },
    {
      "cell_type": "code",
      "metadata": {
        "colab": {
          "base_uri": "https://localhost:8080/",
          "height": 265
        },
        "id": "d8oW1EshLk4e",
        "outputId": "efb876ee-e3f2-4d66-e420-9a80e1a10f9f"
      },
      "source": [
        "difference3=cenEigenDiff(Ensemble3)\n",
        "plt.hist(difference3,bins=50,density=True)\n",
        "plt.show()"
      ],
      "execution_count": 22,
      "outputs": [
        {
          "output_type": "display_data",
          "data": {
            "image/png": "[encoded data removed]",
            "text/plain": [
              "<Figure size 432x288 with 1 Axes>"
            ]
          },
          "metadata": {
            "tags": [],
            "needs_background": "light"
          }
        }
      ]
    },
    {
      "cell_type": "code",
      "metadata": {
        "id": "1Smd7y7mM-SH"
      },
      "source": [
        "def wigner(s):\n",
        "  s1=np.arange(0,s,0.01)\n",
        "  return (np.pi*s1/2)*np.exp(-np.pi*s1**2/4)"
      ],
      "execution_count": 23,
      "outputs": []
    },
    {
      "cell_type": "code",
      "metadata": {
        "colab": {
          "base_uri": "https://localhost:8080/",
          "height": 265
        },
        "id": "BF9NrGfKPymk",
        "outputId": "83f7ae0f-4245-40ef-9942-46758786c05b"
      },
      "source": [
        "plt.plot(np.arange(0,5,0.01),wigner(5))\n",
        "plt.hist(difference3,bins=50,density=True)\n",
        "plt.show()"
      ],
      "execution_count": 24,
      "outputs": [
        {
          "output_type": "display_data",
          "data": {
            "image/png": "[encoded data removed]",
            "text/plain": [
              "<Figure size 432x288 with 1 Axes>"
            ]
          },
          "metadata": {
            "tags": [],
            "needs_background": "light"
          }
        }
      ]
    },
    {
      "cell_type": "code",
      "metadata": {
        "colab": {
          "base_uri": "https://localhost:8080/",
          "height": 266
        },
        "id": "rbEsYSwhQO9O",
        "outputId": "8955bd93-ed11-45fb-e72c-5132a2737653"
      },
      "source": [
        "Ensemble4=createEnsemble(10000,20)\n",
        "difference4=cenEigenDiff(Ensemble4)\n",
        "plt.plot(np.arange(0,5,0.01),wigner(5))\n",
        "plt.hist(difference4,bins=50,density=True)\n",
        "plt.show()"
      ],
      "execution_count": 25,
      "outputs": [
        {
          "output_type": "display_data",
          "data": {
            "image/png": "[encoded data removed]",
            "text/plain": [
              "<Figure size 432x288 with 1 Axes>"
            ]
          },
          "metadata": {
            "tags": [],
            "needs_background": "light"
          }
        }
      ]
    },
    {
      "cell_type": "code",
      "metadata": {
        "id": "kMY6jxRHTWSB"
      },
      "source": [
        "Ensemble5=createEnsemble(10000,25)\n",
        "difference5=cenEigenDiff(Ensemble4)"
      ],
      "execution_count": 26,
      "outputs": []
    },
    {
      "cell_type": "code",
      "metadata": {
        "colab": {
          "base_uri": "https://localhost:8080/",
          "height": 266
        },
        "id": "qc31khmAT29i",
        "outputId": "7caf3892-85be-44b0-cbf2-88662d90841c"
      },
      "source": [
        "plt.plot(np.arange(0,5,0.01),wigner(5))\n",
        "plt.hist(difference5,bins=50,density=True)\n",
        "plt.show()"
      ],
      "execution_count": 27,
      "outputs": [
        {
          "output_type": "display_data",
          "data": {
            "image/png": "[encoded data removed]",
            "text/plain": [
              "<Figure size 432x288 with 1 Axes>"
            ]
          },
          "metadata": {
            "tags": [],
            "needs_background": "light"
          }
        }
      ]
    },
    {
      "cell_type": "code",
      "metadata": {
        "id": "P4YFMMcBT6rZ"
      },
      "source": [
        ""
      ],
      "execution_count": null,
      "outputs": []
    }
  ]
}