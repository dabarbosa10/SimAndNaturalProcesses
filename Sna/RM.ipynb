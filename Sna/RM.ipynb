{
  "nbformat": 4,
  "nbformat_minor": 0,
  "metadata": {
    "colab": {
      "name": "RM.ipynb",
      "provenance": []
    },
    "kernelspec": {
      "name": "python3",
      "display_name": "Python 3"
    }
  },
  "cells": [
    {
      "cell_type": "code",
      "metadata": {
        "id": "-0EsD3vCwPqo"
      },
      "source": [
        "import numpy as np\n",
        "import matplotlib.pyplot as plt\n",
        "%matplotlib inline"
      ],
      "execution_count": 1,
      "outputs": []
    },
    {
      "cell_type": "code",
      "metadata": {
        "id": "t_6aQM6Vwrcc"
      },
      "source": [
        "A=np.random.standard_normal(size=(2,2))\n",
        "B=A.T"
      ],
      "execution_count": 2,
      "outputs": []
    },
    {
      "cell_type": "code",
      "metadata": {
        "colab": {
          "base_uri": "https://localhost:8080/"
        },
        "id": "VobstqgyxNYT",
        "outputId": "0bd3c69f-d221-4803-cff5-4ea357b4beaa"
      },
      "source": [
        "C=A+B\n",
        "print(C)"
      ],
      "execution_count": 3,
      "outputs": [
        {
          "output_type": "stream",
          "text": [
            "[[ 3.01656974  1.76622976]\n",
            " [ 1.76622976 -0.23736981]]\n"
          ],
          "name": "stdout"
        }
      ]
    },
    {
      "cell_type": "markdown",
      "metadata": {
        "id": "4c-TuiUFyApe"
      },
      "source": [
        "In the above case we have an element of the GOE random matrix.\n",
        "We can create a larger element of this ensemble."
      ]
    },
    {
      "cell_type": "code",
      "metadata": {
        "id": "gDloeuNYyV4k"
      },
      "source": [
        "def createGoe(size1):\n",
        "  A1=np.random.standard_normal(size=(size1,size1))\n",
        "  B1=A1.T\n",
        "  C1=A1+B1\n",
        "  return C1"
      ],
      "execution_count": 4,
      "outputs": []
    },
    {
      "cell_type": "code",
      "metadata": {
        "colab": {
          "base_uri": "https://localhost:8080/"
        },
        "id": "wWMA2EGtytiU",
        "outputId": "b06c30e5-a1f2-4be4-f104-ce122b2cea72"
      },
      "source": [
        "H1=createGoe(2)\n",
        "print(H1)"
      ],
      "execution_count": 5,
      "outputs": [
        {
          "output_type": "stream",
          "text": [
            "[[-0.44909057  2.56493676]\n",
            " [ 2.56493676  0.62274813]]\n"
          ],
          "name": "stdout"
        }
      ]
    },
    {
      "cell_type": "code",
      "metadata": {
        "colab": {
          "base_uri": "https://localhost:8080/"
        },
        "id": "H2EzD1Jj3wbB",
        "outputId": "333dcf20-b008-4715-c514-9f59f9cd78d7"
      },
      "source": [
        "H2=createGoe(4)\n",
        "print(H2)"
      ],
      "execution_count": 6,
      "outputs": [
        {
          "output_type": "stream",
          "text": [
            "[[-2.01587629 -3.65400475 -1.44597817 -0.76752703]\n",
            " [-3.65400475  0.71086486 -0.05473742  1.81857112]\n",
            " [-1.44597817 -0.05473742  0.74121757 -2.69181246]\n",
            " [-0.76752703  1.81857112 -2.69181246 -1.03835352]]\n"
          ],
          "name": "stdout"
        }
      ]
    },
    {
      "cell_type": "markdown",
      "metadata": {
        "id": "7b1LPc3x4TXE"
      },
      "source": [
        "We observe that an element H of GOE is a symmetric matrix. "
      ]
    },
    {
      "cell_type": "code",
      "metadata": {
        "id": "N3myhGb64EcE"
      },
      "source": [
        "def createEnsemble(sizens,sizemat):\n",
        "  Ens=np.zeros((sizens,sizemat,sizemat))\n",
        "  for i in range(0,sizens):\n",
        "    Ens[i,:,:]=createGoe(sizemat)\n",
        "  return Ens"
      ],
      "execution_count": 7,
      "outputs": []
    },
    {
      "cell_type": "code",
      "metadata": {
        "id": "cUBOgyeV6CMH"
      },
      "source": [
        "Ensemble=createEnsemble(1000,2)"
      ],
      "execution_count": 30,
      "outputs": []
    },
    {
      "cell_type": "code",
      "metadata": {
        "id": "hbpOY4cr8cit"
      },
      "source": [
        "def compEig(matrices):\n",
        "  eigen1=np.linalg.eigvals(matrices[0,:,:])\n",
        "  for i in range(1,matrices.shape[0]):\n",
        "    eigen2=np.linalg.eigvals(matrices[i,:,:])\n",
        "    eigen1=np.append(eigen1,eigen2)\n",
        "  return np.sort(eigen1)"
      ],
      "execution_count": 31,
      "outputs": []
    },
    {
      "cell_type": "code",
      "metadata": {
        "id": "GaUjKfKU9nMx"
      },
      "source": [
        "ens=compEig(Ensemble)"
      ],
      "execution_count": 32,
      "outputs": []
    },
    {
      "cell_type": "code",
      "metadata": {
        "colab": {
          "base_uri": "https://localhost:8080/",
          "height": 265
        },
        "id": "KNdTa060_lhj",
        "outputId": "5cd0ccb1-6ec5-47c9-d874-c7fb2989572d"
      },
      "source": [
        "plt.hist(ens,bins=50)\n",
        "plt.show()"
      ],
      "execution_count": 37,
      "outputs": [
        {
          "output_type": "display_data",
          "data": {
            "image/png": "[encoded data removed]",
            "text/plain": [
              "<Figure size 432x288 with 1 Axes>"
            ]
          },
          "metadata": {
            "tags": [],
            "needs_background": "light"
          }
        }
      ]
    },
    {
      "cell_type": "code",
      "metadata": {
        "colab": {
          "base_uri": "https://localhost:8080/"
        },
        "id": "3S8ZRe25_ylE",
        "outputId": "01b2e1d7-d020-4126-efab-41395a1faab1"
      },
      "source": [
        "ens"
      ],
      "execution_count": 38,
      "outputs": [
        {
          "output_type": "execute_result",
          "data": {
            "text/plain": [
              "array([-7.90224215, -6.95703051, -6.75894266, ...,  7.57948888,\n",
              "        7.73237575,  8.23304832])"
            ]
          },
          "metadata": {
            "tags": []
          },
          "execution_count": 38
        }
      ]
    },
    {
      "cell_type": "code",
      "metadata": {
        "id": "XWlRLMNNASOm"
      },
      "source": [
        "Ensemble2=createEnsemble(1000,4)\n",
        "Ensemble3=createEnsemble(1000,10)\n",
        "ens2=compEig(Ensemble2)\n",
        "ens3=compEig(Ensemble3)"
      ],
      "execution_count": 39,
      "outputs": []
    },
    {
      "cell_type": "code",
      "metadata": {
        "colab": {
          "base_uri": "https://localhost:8080/",
          "height": 265
        },
        "id": "YvG3Ox8uAtst",
        "outputId": "c5c48658-c488-41ca-cf93-3047b6a61421"
      },
      "source": [
        "plt.hist(ens2,bins=50)\n",
        "plt.show()"
      ],
      "execution_count": 40,
      "outputs": [
        {
          "output_type": "display_data",
          "data": {
            "image/png": "[encoded data removed]",
            "text/plain": [
              "<Figure size 432x288 with 1 Axes>"
            ]
          },
          "metadata": {
            "tags": [],
            "needs_background": "light"
          }
        }
      ]
    },
    {
      "cell_type": "code",
      "metadata": {
        "colab": {
          "base_uri": "https://localhost:8080/",
          "height": 265
        },
        "id": "JRxRejP7AwZA",
        "outputId": "c393bb57-3630-4be2-83ff-90ec96db33dc"
      },
      "source": [
        "plt.hist(ens3,bins=50)\n",
        "plt.show()"
      ],
      "execution_count": 41,
      "outputs": [
        {
          "output_type": "display_data",
          "data": {
            "image/png": "[encoded data removed]",
            "text/plain": [
              "<Figure size 432x288 with 1 Axes>"
            ]
          },
          "metadata": {
            "tags": [],
            "needs_background": "light"
          }
        }
      ]
    },
    {
      "cell_type": "code",
      "metadata": {
        "colab": {
          "base_uri": "https://localhost:8080/"
        },
        "id": "GPQmVXjgAy9J",
        "outputId": "a382360d-dfd3-4133-882e-a8bb200b89d2"
      },
      "source": [
        "np.linalg.eigvals(H1)"
      ],
      "execution_count": 43,
      "outputs": [
        {
          "output_type": "execute_result",
          "data": {
            "text/plain": [
              "array([-2.53349756,  2.70715512])"
            ]
          },
          "metadata": {
            "tags": []
          },
          "execution_count": 43
        }
      ]
    },
    {
      "cell_type": "code",
      "metadata": {
        "id": "0uOZm2yfBlT2"
      },
      "source": [
        ""
      ],
      "execution_count": null,
      "outputs": []
    }
  ]
}