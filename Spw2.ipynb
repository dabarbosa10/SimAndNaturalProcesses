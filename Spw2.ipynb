{
 "cells": [
  {
   "cell_type": "code",
   "execution_count": 1,
   "metadata": {},
   "outputs": [],
   "source": [
    "class Y:\n",
    "    def __init__(self,v0):\n",
    "        self.v0=v0\n",
    "        self.g=9.81\n",
    "    def value(self,t):\n",
    "        return self.v0*t -0.5*self.g*t**2\n",
    "    def formula(self):\n",
    "        return 'v0*t-0.5*g*t**20; v0=%g' %self.v0"
   ]
  },
  {
   "cell_type": "code",
   "execution_count": 2,
   "metadata": {},
   "outputs": [
    {
     "name": "stdout",
     "output_type": "stream",
     "text": [
      "y(t=0.2; v0=50)=9.8038\n"
     ]
    }
   ],
   "source": [
    "y=Y(50)\n",
    "t=0.2\n",
    "v=y.value(t)\n",
    "print('y(t=%g; v0=%g)=%g' %(t,y.v0,v))"
   ]
  },
  {
   "cell_type": "code",
   "execution_count": 3,
   "metadata": {},
   "outputs": [
    {
     "name": "stdout",
     "output_type": "stream",
     "text": [
      "v0*t-0.5*g*t**20; v0=50\n"
     ]
    }
   ],
   "source": [
    "print(y.formula())"
   ]
  },
  {
   "cell_type": "code",
   "execution_count": 4,
   "metadata": {},
   "outputs": [],
   "source": [
    "import numpy as np\n",
    "import matplotlib.pyplot as plt"
   ]
  },
  {
   "cell_type": "code",
   "execution_count": 5,
   "metadata": {},
   "outputs": [],
   "source": [
    "x=np.zeros(100)\n",
    "s=0\n",
    "for i in np.linspace(0,11,100):\n",
    "    x[s]=y.value(i)\n",
    "    s=s+1\n"
   ]
  },
  {
   "cell_type": "code",
   "execution_count": 6,
   "metadata": {},
   "outputs": [
    {
     "data": {
      "text/plain": [
       "[<matplotlib.lines.Line2D at 0x7efd4c4b3890>]"
      ]
     },
     "execution_count": 6,
     "metadata": {},
     "output_type": "execute_result"
    },
    {
     "data": {
      "image/png": "[encoded data removed]",
      "text/plain": [
       "<Figure size 432x288 with 1 Axes>"
      ]
     },
     "metadata": {
      "needs_background": "light"
     },
     "output_type": "display_data"
    }
   ],
   "source": [
    "plt.plot(x)"
   ]
  },
  {
   "cell_type": "code",
   "execution_count": 7,
   "metadata": {},
   "outputs": [],
   "source": [
    "class Derivative(object):\n",
    "    def __init__(self, f, h=1E-5):\n",
    "        self.f=f\n",
    "        self.h=float(h)\n",
    "    def __call__(self,x):\n",
    "        f,h=self.f,self.h\n",
    "        return((f(x+h)-f(x)))/h"
   ]
  },
  {
   "cell_type": "code",
   "execution_count": 8,
   "metadata": {},
   "outputs": [],
   "source": [
    "#Differentiate two functions"
   ]
  },
  {
   "cell_type": "code",
   "execution_count": 9,
   "metadata": {},
   "outputs": [
    {
     "data": {
      "text/plain": [
       "-0.9999999999898844"
      ]
     },
     "execution_count": 9,
     "metadata": {},
     "output_type": "execute_result"
    }
   ],
   "source": [
    "from math import sin, cos, pi\n",
    "df=Derivative(sin)\n",
    "x=pi\n",
    "df(x)"
   ]
  },
  {
   "cell_type": "code",
   "execution_count": 10,
   "metadata": {},
   "outputs": [],
   "source": [
    "class Integrator:\n",
    "    def __init__(self, xMin, xMax, N):\n",
    "        self.xMin=xMin\n",
    "        self.xMax=xMax\n",
    "        self.N=N    \n",
    "    def integrate(self):\n",
    "        s=0.0\n",
    "        for i in range(1,self.N-1):\n",
    "            DX=(self.xMax-self.xMin)/self.N\n",
    "            xi=self.xMin+i*DX\n",
    "            s+=((xi**2)*np.exp(-xi)*np.sin(xi))*DX\n",
    "        return s"
   ]
  },
  {
   "cell_type": "code",
   "execution_count": 11,
   "metadata": {},
   "outputs": [],
   "source": [
    "examp = Integrator(1,3,200000)"
   ]
  },
  {
   "cell_type": "code",
   "execution_count": 12,
   "metadata": {},
   "outputs": [
    {
     "data": {
      "text/plain": [
       "0.7637365112733779"
      ]
     },
     "execution_count": 12,
     "metadata": {},
     "output_type": "execute_result"
    }
   ],
   "source": [
    "examp.integrate()"
   ]
  },
  {
   "cell_type": "code",
   "execution_count": null,
   "metadata": {},
   "outputs": [],
   "source": []
  }
 ],
 "metadata": {
  "kernelspec": {
   "display_name": "Python 3",
   "language": "python",
   "name": "python3"
  },
  "language_info": {
   "codemirror_mode": {
    "name": "ipython",
    "version": 3
   },
   "file_extension": ".py",
   "mimetype": "text/x-python",
   "name": "python",
   "nbconvert_exporter": "python",
   "pygments_lexer": "ipython3",
   "version": "3.7.6"
  }
 },
 "nbformat": 4,
 "nbformat_minor": 4
}
