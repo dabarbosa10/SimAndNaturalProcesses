{
  "nbformat": 4,
  "nbformat_minor": 0,
  "metadata": {
    "colab": {
      "name": "PYMC.ipynb",
      "provenance": []
    },
    "kernelspec": {
      "name": "python3",
      "display_name": "Python 3"
    }
  },
  "cells": [
    {
      "cell_type": "code",
      "metadata": {
        "colab": {
          "base_uri": "https://localhost:8080/"
        },
        "id": "p9Od1vO0byzw",
        "outputId": "67d759aa-5896-4003-ab8d-4f5c74980b14"
      },
      "source": [
        "import pymc3 as mc\n",
        "import numpy as pd \n",
        "import matplotlib.pyplot as plt\n",
        "from scipy import stats\n",
        "import statsmodels.api as sm\n",
        "import statsmodels.formula.api as smf\n",
        "import seaborn as sns\n",
        "import numpy as np"
      ],
      "execution_count": 1,
      "outputs": [
        {
          "output_type": "stream",
          "text": [
            "/usr/local/lib/python3.6/dist-packages/statsmodels/tools/_testing.py:19: FutureWarning: pandas.util.testing is deprecated. Use the functions in the public API at pandas.testing instead.\n",
            "  import pandas.util.testing as tm\n"
          ],
          "name": "stderr"
        }
      ]
    },
    {
      "cell_type": "code",
      "metadata": {
        "id": "LKVc0EtLcOpp"
      },
      "source": [
        "mu=4.0\n",
        "sigma=2.0\n",
        "model=mc.Model()\n",
        "with model:\n",
        "  mc.Normal('X', mu, tau=1/sigma**2)"
      ],
      "execution_count": 2,
      "outputs": []
    },
    {
      "cell_type": "code",
      "metadata": {
        "colab": {
          "base_uri": "https://localhost:8080/"
        },
        "id": "PpTw0xsEdoht",
        "outputId": "bb61b9ea-9992-4d57-e735-6aa2cb67779e"
      },
      "source": [
        "model.vars"
      ],
      "execution_count": 3,
      "outputs": [
        {
          "output_type": "execute_result",
          "data": {
            "text/plain": [
              "[X]"
            ]
          },
          "metadata": {
            "tags": []
          },
          "execution_count": 3
        }
      ]
    },
    {
      "cell_type": "code",
      "metadata": {
        "colab": {
          "base_uri": "https://localhost:8080/"
        },
        "id": "onyBBcNZdtTn",
        "outputId": "0bfd6446-6546-45d7-9cff-8cd248b88779"
      },
      "source": [
        "start=dict(X=2)\n",
        "with model:\n",
        "  step=mc.Metropolis()\n",
        "  trace=mc.sample(10000,start=start, step=step)"
      ],
      "execution_count": 4,
      "outputs": [
        {
          "output_type": "stream",
          "text": [
            "Sequential sampling (2 chains in 1 job)\n",
            "Metropolis: [X]\n",
            "100%|██████████| 10500/10500 [00:01<00:00, 5623.81it/s]\n",
            "100%|██████████| 10500/10500 [00:01<00:00, 7709.86it/s]\n",
            "The number of effective samples is smaller than 25% for some parameters.\n"
          ],
          "name": "stderr"
        }
      ]
    },
    {
      "cell_type": "code",
      "metadata": {
        "id": "2I4zKZlWeShH"
      },
      "source": [
        "X=trace.get_values(\"X\")\n"
      ],
      "execution_count": 5,
      "outputs": []
    },
    {
      "cell_type": "code",
      "metadata": {
        "id": "pUHPbypmebcu"
      },
      "source": [
        "x=np.linspace(-4,12,1000)\n",
        "y=stats.norm(mu,sigma).pdf(x)"
      ],
      "execution_count": 6,
      "outputs": []
    },
    {
      "cell_type": "code",
      "metadata": {
        "colab": {
          "base_uri": "https://localhost:8080/",
          "height": 225
        },
        "id": "Zpe9eJlVelNo",
        "outputId": "4cfa075c-f1f0-4d69-ca6d-77b1f1bdaf8a"
      },
      "source": [
        "fig, ax= plt.subplots(figsize=(8,3))\n",
        "ax.plot(x,y,'r',lw=2)\n",
        "ax.hist(X,bins=50,density=True)\n",
        "ax.set_xlim(-4,12)\n",
        "ax.set_xlabel(\"x\")\n",
        "ax.set_ylabel(\"Probability distribution\")\n",
        "plt.show()"
      ],
      "execution_count": 7,
      "outputs": [
        {
          "output_type": "display_data",
          "data": {
            "image/png": "[encoded data removed]",
            "text/plain": [
              "<Figure size 576x216 with 1 Axes>"
            ]
          },
          "metadata": {
            "tags": [],
            "needs_background": "light"
          }
        }
      ]
    },
    {
      "cell_type": "code",
      "metadata": {
        "id": "mXNsTti1fFYP"
      },
      "source": [
        ""
      ],
      "execution_count": 7,
      "outputs": []
    }
  ]
}